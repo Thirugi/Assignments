{
 "cells": [
  {
   "cell_type": "markdown",
   "id": "adc1c14a",
   "metadata": {},
   "source": [
    "<h3>Write a Python program to reverse a string.</h3>\n",
    "\n",
    "\n",
    "\n",
    "﻿Sample String : \"1234abcd\"\n",
    "\n",
    "Expected Output : \"dcba4321\""
   ]
  },
  {
   "cell_type": "code",
   "execution_count": 6,
   "id": "aea51d86",
   "metadata": {},
   "outputs": [
    {
     "name": "stdout",
     "output_type": "stream",
     "text": [
      "Enter a string:1234abcd\n",
      "dcba4321\n"
     ]
    }
   ],
   "source": [
    "s=input('Enter a string:')\n",
    "t=''\n",
    "for i in range(len(s)):\n",
    "    t=s[i]+t\n",
    "print(t)"
   ]
  },
  {
   "cell_type": "code",
   "execution_count": 9,
   "id": "1720af2c",
   "metadata": {},
   "outputs": [
    {
     "name": "stdout",
     "output_type": "stream",
     "text": [
      "Enter a string:1234abcd\n",
      "dcba4321\n"
     ]
    }
   ],
   "source": [
    "s=input('Enter a string:')\n",
    "i=len(s)-1\n",
    "j=''\n",
    "while i >= 0:\n",
    "    j=j+s[i]\n",
    "    i-=1\n",
    "\n",
    "print(j)\n"
   ]
  },
  {
   "cell_type": "code",
   "execution_count": 7,
   "id": "36a602b2",
   "metadata": {},
   "outputs": [
    {
     "name": "stdout",
     "output_type": "stream",
     "text": [
      "Enter a string:1234abcd\n",
      "dcba4321\n"
     ]
    }
   ],
   "source": [
    "s=input('Enter a string:')\n",
    "print(s[::-1])"
   ]
  },
  {
   "cell_type": "code",
   "execution_count": 8,
   "id": "013e0239",
   "metadata": {},
   "outputs": [
    {
     "name": "stdout",
     "output_type": "stream",
     "text": [
      "Enter a string1234abcd\n",
      "dcba4321\n"
     ]
    }
   ],
   "source": [
    "print(input('Enter a string')[::-1])"
   ]
  },
  {
   "cell_type": "code",
   "execution_count": 13,
   "id": "d094a14d",
   "metadata": {},
   "outputs": [
    {
     "name": "stdout",
     "output_type": "stream",
     "text": [
      "enter a string:123\n",
      "321\n"
     ]
    }
   ],
   "source": [
    "print(''.join(reversed(input('enter a string:'))))"
   ]
  },
  {
   "cell_type": "code",
   "execution_count": null,
   "id": "1cc650d5",
   "metadata": {},
   "outputs": [],
   "source": []
  }
 ],
 "metadata": {
  "kernelspec": {
   "display_name": "Python 3 (ipykernel)",
   "language": "python",
   "name": "python3"
  },
  "language_info": {
   "codemirror_mode": {
    "name": "ipython",
    "version": 3
   },
   "file_extension": ".py",
   "mimetype": "text/x-python",
   "name": "python",
   "nbconvert_exporter": "python",
   "pygments_lexer": "ipython3",
   "version": "3.9.7"
  }
 },
 "nbformat": 4,
 "nbformat_minor": 5
}
