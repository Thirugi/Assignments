{
 "cells": [
  {
   "cell_type": "markdown",
   "id": "adc1c14a",
   "metadata": {},
   "source": [
    "<h3>Write a Python program to reverse a string.</h3>\n",
    "\n",
    "\n",
    "\n",
    "﻿Sample String : \"1234abcd\"\n",
    "\n",
    "Expected Output : \"dcba4321\""
   ]
  },
  {
   "cell_type": "code",
   "execution_count": 3,
   "id": "aea51d86",
   "metadata": {},
   "outputs": [
    {
     "name": "stdout",
     "output_type": "stream",
     "text": [
      "Enter a string:1234abcd\n",
      "dcba4321\n"
     ]
    }
   ],
   "source": [
    "s=input('Enter a string:')\n",
    "def rev_str(s):\n",
    "    t=''\n",
    "    for i in range(len(s)):\n",
    "        t=s[i]+t\n",
    "    return t\n",
    "print(rev_str(s))"
   ]
  },
  {
   "cell_type": "code",
   "execution_count": 2,
   "id": "1720af2c",
   "metadata": {},
   "outputs": [
    {
     "name": "stdout",
     "output_type": "stream",
     "text": [
      "Enter a string:1234abcd\n",
      "dcba4321\n"
     ]
    }
   ],
   "source": [
    "s=input('Enter a string:')\n",
    "\n",
    "def rev_str(s):\n",
    "    i=len(s)-1\n",
    "    j=''\n",
    "    while i >= 0:\n",
    "        j=j+s[i]\n",
    "        i-=1\n",
    "    return j\n",
    "\n",
    "print(rev_str(s))"
   ]
  },
  {
   "cell_type": "code",
   "execution_count": null,
   "id": "1cc650d5",
   "metadata": {},
   "outputs": [],
   "source": []
  }
 ],
 "metadata": {
  "kernelspec": {
   "display_name": "Python 3 (ipykernel)",
   "language": "python",
   "name": "python3"
  },
  "language_info": {
   "codemirror_mode": {
    "name": "ipython",
    "version": 3
   },
   "file_extension": ".py",
   "mimetype": "text/x-python",
   "name": "python",
   "nbconvert_exporter": "python",
   "pygments_lexer": "ipython3",
   "version": "3.9.7"
  }
 },
 "nbformat": 4,
 "nbformat_minor": 5
}
