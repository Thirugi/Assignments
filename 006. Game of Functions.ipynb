{
 "cells": [
  {
   "cell_type": "markdown",
   "id": "10440425",
   "metadata": {},
   "source": [
    "<h3>Write a Python function to sum all the numbers in a list.</h3>\n",
    "\n",
    "\n",
    "\n",
    "Sample List : (8, 2, 3, 0, 7)\n",
    "\n",
    "Expected Output : 20"
   ]
  },
  {
   "cell_type": "code",
   "execution_count": 10,
   "id": "3a94351d",
   "metadata": {},
   "outputs": [
    {
     "name": "stdout",
     "output_type": "stream",
     "text": [
      "enter the elements of the list\n",
      "8\n",
      "enter the elements of the list\n",
      "2\n",
      "enter the elements of the list\n",
      "3\n",
      "enter the elements of the list\n",
      "0\n",
      "enter the elements of the list\n",
      "7\n",
      "enter the elements of the list\n",
      "\n",
      "20\n"
     ]
    }
   ],
   "source": [
    "lst=[]\n",
    "while True:\n",
    "    print('enter the elements of the list')\n",
    "    i =input()\n",
    "    if not i:\n",
    "        break\n",
    "    else:\n",
    "        lst.append(int(i))\n",
    "        \n",
    "\n",
    "def sum_list(*args):\n",
    "    s=0\n",
    "    for i in args:\n",
    "        s+=i\n",
    "    return s\n",
    "\n",
    "print(sum_list(*lst))"
   ]
  },
  {
   "cell_type": "code",
   "execution_count": null,
   "id": "973f25c1",
   "metadata": {},
   "outputs": [],
   "source": []
  }
 ],
 "metadata": {
  "kernelspec": {
   "display_name": "Python 3 (ipykernel)",
   "language": "python",
   "name": "python3"
  },
  "language_info": {
   "codemirror_mode": {
    "name": "ipython",
    "version": 3
   },
   "file_extension": ".py",
   "mimetype": "text/x-python",
   "name": "python",
   "nbconvert_exporter": "python",
   "pygments_lexer": "ipython3",
   "version": "3.9.7"
  }
 },
 "nbformat": 4,
 "nbformat_minor": 5
}
