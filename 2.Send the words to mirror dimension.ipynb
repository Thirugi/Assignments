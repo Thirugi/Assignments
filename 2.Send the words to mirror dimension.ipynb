{
 "cells": [
  {
   "cell_type": "markdown",
   "id": "be43b179",
   "metadata": {},
   "source": [
    "<h3> Write a Python program that accepts a word from the user and reverse it</h3>\n",
    "<br> input:Good Morning<br>Output:gninroM dooG"
   ]
  },
  {
   "cell_type": "code",
   "execution_count": 5,
   "id": "946d9ebb",
   "metadata": {},
   "outputs": [
    {
     "name": "stdout",
     "output_type": "stream",
     "text": [
      "enter a word:Edyoda\n"
     ]
    },
    {
     "data": {
      "text/plain": [
       "'adoydE'"
      ]
     },
     "execution_count": 5,
     "metadata": {},
     "output_type": "execute_result"
    }
   ],
   "source": [
    "word = input(\"enter a word:\")\n",
    "\"\".join(reversed(word))"
   ]
  },
  {
   "cell_type": "code",
   "execution_count": 4,
   "id": "edd099e6",
   "metadata": {},
   "outputs": [
    {
     "name": "stdout",
     "output_type": "stream",
     "text": [
      "Enter a wordEdyoda\n"
     ]
    },
    {
     "data": {
      "text/plain": [
       "'adoydE'"
      ]
     },
     "execution_count": 4,
     "metadata": {},
     "output_type": "execute_result"
    }
   ],
   "source": [
    "\"\".join(reversed(input(\"Enter a word\")))"
   ]
  },
  {
   "cell_type": "code",
   "execution_count": null,
   "id": "f2e8fdc2",
   "metadata": {},
   "outputs": [],
   "source": []
  }
 ],
 "metadata": {
  "kernelspec": {
   "display_name": "Python 3 (ipykernel)",
   "language": "python",
   "name": "python3"
  },
  "language_info": {
   "codemirror_mode": {
    "name": "ipython",
    "version": 3
   },
   "file_extension": ".py",
   "mimetype": "text/x-python",
   "name": "python",
   "nbconvert_exporter": "python",
   "pygments_lexer": "ipython3",
   "version": "3.9.7"
  }
 },
 "nbformat": 4,
 "nbformat_minor": 5
}
