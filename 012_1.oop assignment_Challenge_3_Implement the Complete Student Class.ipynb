{
 "cells": [
  {
   "cell_type": "markdown",
   "id": "11fb12ec",
   "metadata": {},
   "source": [
    "<b>Problem statement<b>\n",
    "\n",
    "Implement the complete Student class by completing the tasks below\n",
    "\n",
    "Task\n",
    "\n",
    "👉 Implement the following properties as private:\n",
    "\n",
    "• name<br>\n",
    "• rollNumber<br>\n",
    "👉 Include the following methods to get and set the private properties above:\n",
    "\n",
    "• getName()<br>\n",
    "• setName()<br>\n",
    "• getRollNumber()<br>\n",
    "• setRollNumber()<br>\n",
    "👉 Implement this class according to the rules of encapsulation.\n",
    "\n",
    "Input - Checking all the properties and methods\n",
    "\n",
    "Output - Expecting perfectly defined fields and getter/setters\n",
    "\n",
    "Note: Do not use initializers to initialize the properties. Use the set methods to do so.\n",
    "\n",
    "If the setter is not defined properly, the corresponding getter will also generate an error even if the getter is defined properly.\n",
    "\n"
   ]
  },
  {
   "cell_type": "code",
   "execution_count": 1,
   "id": "b5bf07d6",
   "metadata": {},
   "outputs": [],
   "source": [
    "class student:\n",
    "    def __init__(self):\n",
    "        self._name = ''\n",
    "        \n",
    "    def set_name(self,name):\n",
    "        self._name = name\n",
    "    \n",
    "    def set_rollNumber(self,rollNumber):\n",
    "        self._rollNumber= rollNumber\n",
    "        \n",
    "    def get_name(self):\n",
    "        return self._name\n",
    "    \n",
    "    def get_rollNumber(self):\n",
    "        return self._rollNumber"
   ]
  },
  {
   "cell_type": "code",
   "execution_count": 2,
   "id": "97f2d445",
   "metadata": {},
   "outputs": [],
   "source": [
    "stud = student()\n",
    "stud.set_name('Naruto Huzumaki')\n",
    "stud.set_rollNumber(1)"
   ]
  },
  {
   "cell_type": "code",
   "execution_count": 3,
   "id": "1f5a849e",
   "metadata": {},
   "outputs": [
    {
     "name": "stdout",
     "output_type": "stream",
     "text": [
      "student name: Naruto Huzumaki\n",
      "student rollNumber: 1\n"
     ]
    }
   ],
   "source": [
    "print('student name:',stud.get_name())\n",
    "print('student rollNumber:',stud.get_rollNumber())"
   ]
  },
  {
   "cell_type": "code",
   "execution_count": null,
   "id": "04e0663b",
   "metadata": {},
   "outputs": [],
   "source": []
  }
 ],
 "metadata": {
  "kernelspec": {
   "display_name": "Python 3 (ipykernel)",
   "language": "python",
   "name": "python3"
  },
  "language_info": {
   "codemirror_mode": {
    "name": "ipython",
    "version": 3
   },
   "file_extension": ".py",
   "mimetype": "text/x-python",
   "name": "python",
   "nbconvert_exporter": "python",
   "pygments_lexer": "ipython3",
   "version": "3.9.7"
  }
 },
 "nbformat": 4,
 "nbformat_minor": 5
}
