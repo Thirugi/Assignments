{
 "cells": [
  {
   "cell_type": "markdown",
   "id": "155c0bdc",
   "metadata": {},
   "source": [
    "### 1. write a python program to get the fibonacci series between 0 to 50<br>\n",
    "0,1,1,2,3,5,8,13,21,....<br>\n",
    "o/p:1,1,2,3,5,8,13,21,34"
   ]
  },
  {
   "cell_type": "code",
   "execution_count": 2,
   "id": "ecf71967",
   "metadata": {},
   "outputs": [
    {
     "name": "stdout",
     "output_type": "stream",
     "text": [
      "1 1 2 3 5 8 13 21 34 "
     ]
    }
   ],
   "source": [
    "a=0\n",
    "b=1\n",
    "temp=0\n",
    "for i in range(50):\n",
    "    if b>=50:\n",
    "        break\n",
    "    else:\n",
    "        print(b,end=' ')\n",
    "        temp = a+b\n",
    "        a=b\n",
    "        b=temp\n",
    "    "
   ]
  },
  {
   "cell_type": "code",
   "execution_count": null,
   "id": "4069d841",
   "metadata": {},
   "outputs": [],
   "source": []
  }
 ],
 "metadata": {
  "kernelspec": {
   "display_name": "Python 3 (ipykernel)",
   "language": "python",
   "name": "python3"
  },
  "language_info": {
   "codemirror_mode": {
    "name": "ipython",
    "version": 3
   },
   "file_extension": ".py",
   "mimetype": "text/x-python",
   "name": "python",
   "nbconvert_exporter": "python",
   "pygments_lexer": "ipython3",
   "version": "3.9.7"
  }
 },
 "nbformat": 4,
 "nbformat_minor": 5
}
