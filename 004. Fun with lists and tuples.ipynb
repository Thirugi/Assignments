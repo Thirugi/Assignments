{
 "cells": [
  {
   "cell_type": "markdown",
   "id": "e075484b",
   "metadata": {},
   "source": [
    "<h3>Write a Python program to get a list, sorted in increasing order by the last element in each tuple from a given list of non-empty tuples.</h3>\n",
    "\n",
    "\n",
    "\n",
    "Sample List : [(2, 5), (1, 2), (4, 4), (2, 3), (2, 1)]\n",
    "\n",
    "Expected Result : [(2, 1), (1, 2), (2, 3), (4, 4), (2, 5)]"
   ]
  },
  {
   "cell_type": "code",
   "execution_count": 14,
   "id": "6f33d601",
   "metadata": {},
   "outputs": [
    {
     "name": "stdout",
     "output_type": "stream",
     "text": [
      "enter the elements of the tuple\n",
      "2\n",
      "5\n",
      "enter the elements of the tuple\n",
      "1\n",
      "2\n",
      "enter the elements of the tuple\n",
      "4\n",
      "4\n",
      "enter the elements of the tuple\n",
      "2\n",
      "3\n",
      "enter the elements of the tuple\n",
      "2\n",
      "1\n",
      "enter the elements of the tuple\n",
      "\n",
      "\n",
      "[(2, 5), (1, 2), (4, 4), (2, 3), (2, 1)]\n",
      "[(2, 1), (1, 2), (2, 3), (4, 4), (2, 5)]\n"
     ]
    }
   ],
   "source": [
    "\n",
    "lst=[]\n",
    "while True:\n",
    "    print(\"enter the elements of the tuple\")\n",
    "    i=input()\n",
    "    j=input()\n",
    "\n",
    "    if (not i)or(not j):\n",
    "        break\n",
    "    l=tuple([int(i),int(j)])\n",
    "    lst.append(l)\n",
    "        \n",
    "print(lst)\n",
    "lst.sort(key=lambda x: x[1])\n",
    "print(lst)\n",
    "    \n"
   ]
  },
  {
   "cell_type": "code",
   "execution_count": 15,
   "id": "96e3c2f7",
   "metadata": {},
   "outputs": [
    {
     "name": "stdout",
     "output_type": "stream",
     "text": [
      "[(2, 1), (1, 2), (2, 3), (4, 4), (2, 5)]\n"
     ]
    }
   ],
   "source": [
    "test_list = [(2, 5), (1, 2), (4, 4), (2, 3), (2, 1)]\n",
    "test_list.sort(key=lambda x: x[1])\n",
    "print(test_list)"
   ]
  },
  {
   "cell_type": "code",
   "execution_count": null,
   "id": "5b134815",
   "metadata": {},
   "outputs": [],
   "source": []
  }
 ],
 "metadata": {
  "kernelspec": {
   "display_name": "Python 3 (ipykernel)",
   "language": "python",
   "name": "python3"
  },
  "language_info": {
   "codemirror_mode": {
    "name": "ipython",
    "version": 3
   },
   "file_extension": ".py",
   "mimetype": "text/x-python",
   "name": "python",
   "nbconvert_exporter": "python",
   "pygments_lexer": "ipython3",
   "version": "3.9.7"
  }
 },
 "nbformat": 4,
 "nbformat_minor": 5
}
