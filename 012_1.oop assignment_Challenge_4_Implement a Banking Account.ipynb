{
 "cells": [
  {
   "cell_type": "markdown",
   "id": "d3584c31",
   "metadata": {},
   "source": [
    "🔴 In this challenge, you will implement a banking account using the concepts of inheritance.\n",
    "<b>Problem statement</b>\n",
    "\n",
    "Implement the basic structure of a parent class, Account, and a child class, SavingsAccount.\n",
    "\n",
    "Task 1\n",
    "\n",
    "👉 Implement properties as instance variables, and set them to None or 0.\n",
    "\n",
    "Account has the following properties:\n",
    "\n",
    "    • title\n",
    "    • Balance\n",
    "SavingsAccount has the following properties:\n",
    "\n",
    "    • interestRate\n",
    "Task 2\n",
    "\n",
    "Create an initializer for Account class. The order of parameters should be the following, where Ashish is the title, and 5000 is the account balance:\n",
    "\n",
    "Account(\"Ashish\", 5000)\n",
    "\n",
    "Task 3\n",
    "\n",
    "Implement properties as instance variables, and set them to None or 0.\n",
    "\n",
    "Create an initializer for the SavingsAccount class using the initializer of the Account class in the order below:\n",
    "\n",
    "Account(\"Ashish\", 5000, 5)\n",
    "\n",
    "Here, Ashish is the title and 5000 is the balance and 5 is the interestRate.\n",
    "\n"
   ]
  },
  {
   "cell_type": "code",
   "execution_count": 1,
   "id": "97457789",
   "metadata": {},
   "outputs": [],
   "source": [
    "class account:\n",
    "    def __init__(self,title=None,Balance=0):\n",
    "        self.title = title\n",
    "        self.Balance= Balance\n",
    "        "
   ]
  },
  {
   "cell_type": "code",
   "execution_count": 2,
   "id": "dd30b4bb",
   "metadata": {},
   "outputs": [],
   "source": [
    "class SavingsAccount(account):\n",
    "    def __init__(self,title,Balance,interestRate):\n",
    "        super().__init__(title,Balance)\n",
    "        self.interestRate = interestRate\n",
    "        \n",
    "    def __str__(self):\n",
    "        return f\"title is {self.title}account balance: {self.Balance} interest rate is: {self.interestRate}'\"\n",
    "    "
   ]
  },
  {
   "cell_type": "code",
   "execution_count": 3,
   "id": "f30a1ee4",
   "metadata": {},
   "outputs": [
    {
     "name": "stdout",
     "output_type": "stream",
     "text": [
      "title is Ashishaccount balance: 5000 interest rate is: 5'\n"
     ]
    }
   ],
   "source": [
    "sav_acc = SavingsAccount('Ashish',5000,5)\n",
    "print(sav_acc)"
   ]
  },
  {
   "cell_type": "code",
   "execution_count": null,
   "id": "a4feb7bf",
   "metadata": {},
   "outputs": [],
   "source": []
  },
  {
   "cell_type": "code",
   "execution_count": null,
   "id": "2f248b1d",
   "metadata": {},
   "outputs": [],
   "source": []
  }
 ],
 "metadata": {
  "kernelspec": {
   "display_name": "Python 3 (ipykernel)",
   "language": "python",
   "name": "python3"
  },
  "language_info": {
   "codemirror_mode": {
    "name": "ipython",
    "version": 3
   },
   "file_extension": ".py",
   "mimetype": "text/x-python",
   "name": "python",
   "nbconvert_exporter": "python",
   "pygments_lexer": "ipython3",
   "version": "3.9.7"
  }
 },
 "nbformat": 4,
 "nbformat_minor": 5
}
