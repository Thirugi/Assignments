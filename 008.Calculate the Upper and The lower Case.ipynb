{
 "cells": [
  {
   "cell_type": "markdown",
   "id": "3d512896",
   "metadata": {},
   "source": [
    "<h3>Write a Python function that accepts a string and calculate the number of upper case letters and lower case letters.</h3>\n",
    "\n",
    "\n",
    "\n",
    "Sample String : 'The quick Brow Fox'\n",
    "\n",
    "Expected Output :\n",
    "\n",
    "No. of Upper case characters : 3\n",
    "\n",
    "No. of Lower case Characters : 12"
   ]
  },
  {
   "cell_type": "code",
   "execution_count": 10,
   "id": "27999c1b",
   "metadata": {},
   "outputs": [
    {
     "name": "stdout",
     "output_type": "stream",
     "text": [
      "Enter a string:The quick Brow Fox\n",
      " No. of Upper case characters: 3 \n",
      " No. of Lower case characters: 12\n"
     ]
    }
   ],
   "source": [
    "s=input('Enter a string:')\n",
    "u=0\n",
    "l=0\n",
    "for i in range(len(s)):\n",
    "    if s[i].isspace():\n",
    "        pass\n",
    "    elif s[i].isupper():\n",
    "        u+=1\n",
    "    else:\n",
    "        l+=1\n",
    "print(' No. of Upper case characters:',u,str('\\n'),'No. of Lower case characters:',l)"
   ]
  },
  {
   "cell_type": "code",
   "execution_count": null,
   "id": "68436881",
   "metadata": {},
   "outputs": [],
   "source": []
  }
 ],
 "metadata": {
  "kernelspec": {
   "display_name": "Python 3 (ipykernel)",
   "language": "python",
   "name": "python3"
  },
  "language_info": {
   "codemirror_mode": {
    "name": "ipython",
    "version": 3
   },
   "file_extension": ".py",
   "mimetype": "text/x-python",
   "name": "python",
   "nbconvert_exporter": "python",
   "pygments_lexer": "ipython3",
   "version": "3.9.7"
  }
 },
 "nbformat": 4,
 "nbformat_minor": 5
}
