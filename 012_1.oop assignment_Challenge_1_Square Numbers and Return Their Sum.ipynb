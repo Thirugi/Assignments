{
 "cells": [
  {
   "cell_type": "markdown",
   "id": "4a83c760",
   "metadata": {},
   "source": [
    "<b>Problem statement</b>: Implement a class Point that has three properties and a method. All these attributes (properties and methods) should be public. This problem can be broken down into two tasks:\n",
    "\n",
    "Task 1: 👉 Implement a constructor to initialize the values of three properties: x, y, and z.\n",
    "\n",
    "Task 2: 👉 Implement a method, sqSum(), in the Point class which squares x, y, and z and returns their sum.\n",
    "\n",
    "Sample properties 1, 3, 5\n",
    "\n",
    "Sample method output 35"
   ]
  },
  {
   "cell_type": "code",
   "execution_count": 1,
   "id": "e5c2fe97",
   "metadata": {},
   "outputs": [],
   "source": [
    "class point:\n",
    "    def __init__(self,x,y,z):\n",
    "        self.x=x\n",
    "        self.y=y\n",
    "        self.z=z\n",
    "        \n",
    "    def sqSum(self):\n",
    "        return self.x**2+self.y**2+self.z**2"
   ]
  },
  {
   "cell_type": "code",
   "execution_count": 2,
   "id": "feb0894f",
   "metadata": {},
   "outputs": [
    {
     "name": "stdout",
     "output_type": "stream",
     "text": [
      "35\n"
     ]
    }
   ],
   "source": [
    "point_obj = point(1,3,5)\n",
    "print(point_obj.sqSum())"
   ]
  },
  {
   "cell_type": "code",
   "execution_count": 4,
   "id": "4b7e2904",
   "metadata": {},
   "outputs": [
    {
     "name": "stdout",
     "output_type": "stream",
     "text": [
      "enter first number: 5\n",
      "enter second number: 6\n",
      "enter third number: 7\n",
      "110\n"
     ]
    }
   ],
   "source": [
    "point_obj1 = point(int(input('enter first number: ')),\\\n",
    "                  int(input('enter second number: ')),\\\n",
    "                  int(input('enter third number: ')))\n",
    "print(point_obj1.sqSum())"
   ]
  },
  {
   "cell_type": "code",
   "execution_count": null,
   "id": "063026c9",
   "metadata": {},
   "outputs": [],
   "source": []
  }
 ],
 "metadata": {
  "kernelspec": {
   "display_name": "Python 3 (ipykernel)",
   "language": "python",
   "name": "python3"
  },
  "language_info": {
   "codemirror_mode": {
    "name": "ipython",
    "version": 3
   },
   "file_extension": ".py",
   "mimetype": "text/x-python",
   "name": "python",
   "nbconvert_exporter": "python",
   "pygments_lexer": "ipython3",
   "version": "3.9.7"
  }
 },
 "nbformat": 4,
 "nbformat_minor": 5
}
