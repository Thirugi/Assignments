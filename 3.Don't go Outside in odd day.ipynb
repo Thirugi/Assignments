{
 "cells": [
  {
   "cell_type": "markdown",
   "id": "b3274c3f",
   "metadata": {},
   "source": [
    "<h3>Don't go outside in Odd day</h3><br>sample numbers=(1,2,3,4,5,6,7,8,9)<br>output:<ul><li>Number of even numbers:4</li>\n",
    "    <li>Number of odd numbers: 5</li></ul>"
   ]
  },
  {
   "cell_type": "code",
   "execution_count": 9,
   "id": "f21dcff6",
   "metadata": {},
   "outputs": [
    {
     "name": "stdout",
     "output_type": "stream",
     "text": [
      "enter the numbers:1,2,3,4,5,8\n",
      " Number of even numbers:  3 \n",
      " Number of odd numbers:  3\n"
     ]
    }
   ],
   "source": [
    "numbers = list(map(int,input(\"enter the numbers:\").split(',')))\n",
    "\n",
    "\n",
    "odd=0\n",
    "even=0\n",
    "for i in numbers:\n",
    "    if i%2==0:\n",
    "        even+=1\n",
    "    else:\n",
    "        odd+=1\n",
    "\n",
    "print(' Number of even numbers: ',even,str('\\n'),'Number of odd numbers: ',odd)"
   ]
  },
  {
   "cell_type": "code",
   "execution_count": null,
   "id": "59e1fddd",
   "metadata": {},
   "outputs": [],
   "source": []
  }
 ],
 "metadata": {
  "kernelspec": {
   "display_name": "Python 3 (ipykernel)",
   "language": "python",
   "name": "python3"
  },
  "language_info": {
   "codemirror_mode": {
    "name": "ipython",
    "version": 3
   },
   "file_extension": ".py",
   "mimetype": "text/x-python",
   "name": "python",
   "nbconvert_exporter": "python",
   "pygments_lexer": "ipython3",
   "version": "3.9.7"
  }
 },
 "nbformat": 4,
 "nbformat_minor": 5
}
