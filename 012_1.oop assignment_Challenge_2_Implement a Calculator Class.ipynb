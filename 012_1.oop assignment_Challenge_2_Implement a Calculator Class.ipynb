{
 "cells": [
  {
   "cell_type": "markdown",
   "id": "ef7489ec",
   "metadata": {},
   "source": [
    "<b>Challenge 2</b>: Implement a Calculator Class\n",
    "🔴 In this exercise, you have to implement a calculator that can perform addition, subtraction, multiplication, and division.\n",
    "\n",
    "Problem statement Write a Python class called Calculator by completing the tasks below:\n",
    "\n",
    "Task 1\n",
    "\n",
    "👉 Initializer\n",
    "\n",
    "Implement an initializer to initialize the values of num1 and num2. Properties\n",
    "\n",
    "• num1\n",
    "• num2\n",
    "Task 2\n",
    "\n",
    "👉 Methods\n",
    "\n",
    "• add() is a method that returns the sum of num1 and num2.<br>\n",
    "• subtract() is a method that returns the subtraction of num1 from num2.<br>\n",
    "• multiply() is a method that returns the product of num1 and num2.<br>\n",
    "• divide() is a method that returns the division of num2 by num1.<br>\n",
    "Input - Pass numbers (integers or floats) in the initializer.\n",
    "\n",
    "Output - addition, subtraction, division, and multiplication\n",
    "\n",
    "Sample input<br>\n",
    "\n",
    "obj = Calculator(10, 94)<br>\n",
    "obj.add()<br>\n",
    "obj.subtract()<br>\n",
    "obj.multiply()<br>\n",
    "obj.divide()<br>\n",
    "Sample output\n",
    "\n",
    "104<br>\n",
    "84<br>\n",
    "940<br>\n",
    "9.4"
   ]
  },
  {
   "cell_type": "code",
   "execution_count": 10,
   "id": "7bcc7bf5",
   "metadata": {},
   "outputs": [],
   "source": [
    "class Calculator:\n",
    "    def __init__(self,x,y):\n",
    "        self.x = x\n",
    "        self.y = y\n",
    "        \n",
    "    def add(self):\n",
    "        return self.x+self.y\n",
    "    \n",
    "    def subtract(self):\n",
    "        return self.y-self.x  \n",
    "    \n",
    "    def multiply(self):\n",
    "        return self.x*self.y\n",
    "    \n",
    "    def divide(self):\n",
    "        return self.y/self.x"
   ]
  },
  {
   "cell_type": "code",
   "execution_count": 11,
   "id": "7169a206",
   "metadata": {},
   "outputs": [
    {
     "name": "stdout",
     "output_type": "stream",
     "text": [
      " 104 \n",
      " 84 \n",
      " 940 \n",
      " 9.4\n"
     ]
    }
   ],
   "source": [
    "calc = Calculator(10,94)\n",
    "print('',calc.add(),str('\\n'),calc.subtract(),str('\\n'),calc.multiply(),str('\\n'),calc.divide())"
   ]
  },
  {
   "cell_type": "code",
   "execution_count": 12,
   "id": "6517fffe",
   "metadata": {},
   "outputs": [
    {
     "name": "stdout",
     "output_type": "stream",
     "text": [
      " 7.0 \n",
      " 4.4 \n",
      " 7.41 \n",
      " 4.384615384615385\n"
     ]
    }
   ],
   "source": [
    "calc1 = Calculator(1.3,5.7)\n",
    "print('',calc1.add(),str('\\n'),calc1.subtract(),str('\\n'),calc1.multiply(),str('\\n'),calc1.divide())"
   ]
  },
  {
   "cell_type": "code",
   "execution_count": null,
   "id": "fe588c16",
   "metadata": {},
   "outputs": [],
   "source": []
  }
 ],
 "metadata": {
  "kernelspec": {
   "display_name": "Python 3 (ipykernel)",
   "language": "python",
   "name": "python3"
  },
  "language_info": {
   "codemirror_mode": {
    "name": "ipython",
    "version": 3
   },
   "file_extension": ".py",
   "mimetype": "text/x-python",
   "name": "python",
   "nbconvert_exporter": "python",
   "pygments_lexer": "ipython3",
   "version": "3.9.7"
  }
 },
 "nbformat": 4,
 "nbformat_minor": 5
}
