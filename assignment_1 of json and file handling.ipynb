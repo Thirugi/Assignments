{
 "cells": [
  {
   "cell_type": "markdown",
   "id": "ad42425e",
   "metadata": {},
   "source": [
    "### assignment for File handling of JSON files in Python"
   ]
  },
  {
   "cell_type": "markdown",
   "id": "564041f6",
   "metadata": {},
   "source": [
    "## Assignment 1\n",
    "\n",
    "👉 1. Create a JSON file (employee.json) containing employee information of minimum 5 employees. Each employee information consists of Name, DOB, Height, City, State. Write a python program that reads this information from the JSON file and saves the information into a list of objects of Employee class. Finally print the list of the Employee objects.\n",
    "\n"
   ]
  },
  {
   "cell_type": "code",
   "execution_count": 1,
   "id": "5a0762f9",
   "metadata": {},
   "outputs": [],
   "source": [
    "#created a json file with following data\n",
    "'''[{\"name\": \"John Doe\",\"dob\": \"01/01/1990\",\"height\": \"5'11\",\"city\": \"New York\",\"state\": \"New York\"},\n",
    "    {\"name\": \"Madara Uchiha\",\"dob\": \"02/01/1990\",\"height\": \"5'6\",\"city\": \"Leaf village\",\"state\": \"California\"},\n",
    "    {\"name\": \"Bob Smith\",\"dob\": \"03/01/1991\",\"height\": \"6'0\",\"city\": \"Chicago\",\"state\": \"Illinois\"},\n",
    "    {\"name\": \"Alice Johnson\",\"dob\": \"04/01/1991\",\"height\": \"5'5\",\"city\": \"Houston\",\"state\": \"Texas\"},\n",
    "    {\"name\": \"sakura chan\",\"dob\": \"05/01/1992\",\"height\": \"5'9\",\"city\": \"Phoenix\",\"state\": \"Arizona\"},\n",
    "    {\"name\": \"sasuke uchiha\",\"dob\": \"15/11/1982\",\"height\": \"5'0\",\"city\": \"leaf village\",\"state\": \"Illinois\"    }]'''\n",
    "\n",
    "import json\n",
    "\n",
    "class Employee:\n",
    "    def __init__(self, Name, DOB, Height, City, State):\n",
    "        self.Name = Name\n",
    "        self.DOB = DOB\n",
    "        self.Height = Height\n",
    "        self.City = City\n",
    "        self.State = State\n",
    "        \n",
    "    def __str__(self):\n",
    "        return f\"Name: {self.Name}\\nDOB: {self.DOB}\\nHeight: {self.Height}\\nCity: {self.City}\\nState: {self.State}\"\n",
    "    \n",
    "\n",
    "# reading the json file and creating the object\n",
    "with open('employee.json','r') as file:\n",
    "    employee_data = json.load(file)\n"
   ]
  },
  {
   "cell_type": "code",
   "execution_count": 2,
   "id": "d64e723d",
   "metadata": {},
   "outputs": [],
   "source": [
    "employees =[]\n",
    "for emp in employee_data:\n",
    "    a = Employee(emp[\"name\"],emp[\"dob\"],emp[\"height\"],emp[\"city\"],emp[\"state\"])\n",
    "    employees.append(a)\n",
    "    \n"
   ]
  },
  {
   "cell_type": "code",
   "execution_count": 3,
   "id": "19fccbe8",
   "metadata": {},
   "outputs": [
    {
     "name": "stdout",
     "output_type": "stream",
     "text": [
      "Name: John Doe\n",
      "DOB: 01/01/1990\n",
      "Height: 5'11\n",
      "City: New York\n",
      "State: New York\n",
      "Name: Madara Uchiha\n",
      "DOB: 02/01/1990\n",
      "Height: 5'6\n",
      "City: Leaf village\n",
      "State: California\n",
      "Name: Bob Smith\n",
      "DOB: 03/01/1991\n",
      "Height: 6'0\n",
      "City: Chicago\n",
      "State: Illinois\n",
      "Name: Alice Johnson\n",
      "DOB: 04/01/1991\n",
      "Height: 5'5\n",
      "City: Houston\n",
      "State: Texas\n",
      "Name: sakura chan\n",
      "DOB: 05/01/1992\n",
      "Height: 5'9\n",
      "City: Phoenix\n",
      "State: Arizona\n",
      "Name: sasuke uchiha\n",
      "DOB: 15/11/1982\n",
      "Height: 5'0\n",
      "City: leaf village\n",
      "State: Illinois\n"
     ]
    }
   ],
   "source": [
    "#printing list of employee objects\n",
    "for emp in employees:\n",
    "    print(emp)"
   ]
  },
  {
   "cell_type": "markdown",
   "id": "ff4f55d9",
   "metadata": {},
   "source": [
    "👉 2. Create a dictionary of any 7 Indian states and their capitals. Write this into a JSON file."
   ]
  },
  {
   "cell_type": "code",
   "execution_count": 4,
   "id": "30943a12",
   "metadata": {},
   "outputs": [],
   "source": [
    "# Writing dictionary data to states_and_capitals.json file\n",
    "states_and_capitals_dict = {\n",
    "    \"Andhra Pradesh\": \"Amaravati\",\n",
    "    \"Telangana\":\"Hyderabad\",\n",
    "    \"Karnataka\":\"Bangalore\",\n",
    "    \"Arunachal Pradesh\": \"Itanagar\",\n",
    "    \"Assam\": \"Dispur\",\n",
    "    \"Bihar\": \"Patna\",\n",
    "    \"Tripura\":\"Agarthala\",\n",
    "    \"Chhattisgarh\": \"Raipur\",\n",
    "    \"Goa\": \"Panaji\",\n",
    "    \"Gujarat\": \"Gandhinagar\"\n",
    "}"
   ]
  },
  {
   "cell_type": "code",
   "execution_count": 5,
   "id": "c5585f6f",
   "metadata": {},
   "outputs": [],
   "source": [
    "with open('states_and_capitals.json','w')as file:\n",
    "    json.dump(states_and_capitals_dict,file)"
   ]
  },
  {
   "cell_type": "code",
   "execution_count": null,
   "id": "73def7a3",
   "metadata": {},
   "outputs": [],
   "source": []
  }
 ],
 "metadata": {
  "kernelspec": {
   "display_name": "Python 3 (ipykernel)",
   "language": "python",
   "name": "python3"
  },
  "language_info": {
   "codemirror_mode": {
    "name": "ipython",
    "version": 3
   },
   "file_extension": ".py",
   "mimetype": "text/x-python",
   "name": "python",
   "nbconvert_exporter": "python",
   "pygments_lexer": "ipython3",
   "version": "3.9.7"
  }
 },
 "nbformat": 4,
 "nbformat_minor": 5
}
