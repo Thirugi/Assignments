{
 "cells": [
  {
   "cell_type": "markdown",
   "id": "f7d5ecff",
   "metadata": {},
   "source": [
    "## Assignment 2\n",
    "\n",
    "👉 1. Create a class named ‘Dog’. It should have a constructor which accepts its name, age and coat color. You must perform the following operations:\n",
    "\n",
    "    🔴 a. It should have a function ‘description()’ which prints the name and age of the dog.\n",
    "    🔴 b. It should have a function ‘get_info()’ which prints the coat color of the dog.\n",
    "    🔴 c. Create child classes ‘JackRussellTerrier’ and ‘Bulldog’ which is inherited from the class ‘Dog’. It should have at least two methods of its own.\n",
    "    🔴 d. Create objects and implement the above functionalities."
   ]
  },
  {
   "cell_type": "code",
   "execution_count": 1,
   "id": "bf3c3f4b",
   "metadata": {},
   "outputs": [],
   "source": [
    "class Dog:\n",
    "    def __init__(self,name,age,coat_color):\n",
    "        self.name = name\n",
    "        self.age = age\n",
    "        self.coat_color = coat_color\n",
    "    \n",
    "    def description(self):\n",
    "        print(' name of dog:',self.name,str('\\n'),'age of dog:',self.age)\n",
    "    \n",
    "    def get_info(self):\n",
    "        print('the coat color of dog:',self.coat_color)\n",
    "        \n"
   ]
  },
  {
   "cell_type": "code",
   "execution_count": 2,
   "id": "c4539369",
   "metadata": {},
   "outputs": [],
   "source": [
    "class JackRussellTerrier(Dog):\n",
    "    def __init__(self,name,age,coat_color,sex,breed):\n",
    "        super().__init__(name,age,coat_color)\n",
    "        self.sex = sex\n",
    "        self.breed = breed\n",
    "        \n",
    "    def sex_info(self):\n",
    "        print('Dog sex:',self.sex)\n",
    "        \n",
    "    def breed_info(self):\n",
    "        print('Dog breed is:',self.breed)"
   ]
  },
  {
   "cell_type": "code",
   "execution_count": 3,
   "id": "bb38e5a7",
   "metadata": {},
   "outputs": [],
   "source": [
    "class Bulldog(Dog):\n",
    "    def __init__(self,name,age,coat_color,sex,personality):\n",
    "        super().__init__(name,age,coat_color)\n",
    "        self.sex = sex\n",
    "        self.personality = personality\n",
    "        \n",
    "    def sex_info(self):\n",
    "        print('Dog sex:',self.sex)\n",
    "        \n",
    "    def personality_info(self):\n",
    "        print('Dog personality:',self.personality)"
   ]
  },
  {
   "cell_type": "code",
   "execution_count": 4,
   "id": "d9dd13ab",
   "metadata": {},
   "outputs": [
    {
     "name": "stdout",
     "output_type": "stream",
     "text": [
      "\n",
      " JackRussellTerrier:\n",
      " name of dog: Albert \n",
      " age of dog: 6\n",
      "the coat color of dog: Grey\n",
      "Dog sex: Male\n",
      "Dog breed is: Terrier\n",
      "\n",
      "Bulldog:\n",
      " name of dog: Snoopy \n",
      " age of dog: 10\n",
      "the coat color of dog: white\n",
      "Dog sex: Male\n",
      "Dog personality: Friendly\n"
     ]
    }
   ],
   "source": [
    "dog1 = JackRussellTerrier('Albert',6,'Grey','Male','Terrier')\n",
    "dog2 = Bulldog('Snoopy',10,'white','Female','Friendly')\n",
    "print(\"\\n JackRussellTerrier:\")\n",
    "dog1.description()\n",
    "dog1.get_info()\n",
    "dog1.sex_info()\n",
    "dog1.breed_info()\n",
    "\n",
    "\n",
    "print(\"\\nBulldog:\")\n",
    "dog2.description()\n",
    "dog2.get_info()\n",
    "dog1.sex_info()\n",
    "dog2.personality_info()"
   ]
  },
  {
   "cell_type": "code",
   "execution_count": null,
   "id": "9b6a72be",
   "metadata": {},
   "outputs": [],
   "source": []
  }
 ],
 "metadata": {
  "kernelspec": {
   "display_name": "Python 3 (ipykernel)",
   "language": "python",
   "name": "python3"
  },
  "language_info": {
   "codemirror_mode": {
    "name": "ipython",
    "version": 3
   },
   "file_extension": ".py",
   "mimetype": "text/x-python",
   "name": "python",
   "nbconvert_exporter": "python",
   "pygments_lexer": "ipython3",
   "version": "3.9.7"
  }
 },
 "nbformat": 4,
 "nbformat_minor": 5
}
