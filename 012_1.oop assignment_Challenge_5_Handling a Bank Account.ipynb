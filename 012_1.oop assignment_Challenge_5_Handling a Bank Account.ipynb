{
 "cells": [
  {
   "cell_type": "markdown",
   "id": "66488e94",
   "metadata": {},
   "source": [
    "🔴 In this challenge, you will define methods for handling a bank account using concepts of inheritance.\n",
    "\n",
    "Problem statement\n",
    "\n",
    "In this challenge, we will be extending the previous challenge and implementing methods in the parent class and its corresponding child class.\n",
    "\n",
    "The initializers for both classes have been defined for you.\n",
    "\n",
    "Task 1\n",
    "\n",
    "In the Account class, implement the getBalance() method that returns balance.\n",
    "\n",
    "Task 2\n",
    "\n",
    "In the Account class, implement the deposit(amount) method that adds amount to the balance.\n",
    "\n",
    "It does not return anything.\n",
    "\n",
    "Sample input\n",
    "\n",
    "balance = 2000<br>\n",
    "deposit(500)<br>\n",
    "getbalance()<br>\n",
    "Sample output\n",
    "\n",
    "2500<br>\n",
    "Task 3\n",
    "\n",
    "In the Account class, implement the withdrawal(amount) method that subtracts the amount from the balance.\n",
    "\n",
    "It does not return anything.\n",
    "\n",
    "Sample input\n",
    "\n",
    "balance = 2000<br>\n",
    "withdrawal(500)<br>\n",
    "getbalance()<br>\n",
    "Sample output\n",
    "\n",
    "1500<br>\n",
    "Task 4\n",
    "\n",
    "In the SavingsAccount class, implement an interestAmount() method that returns the interest amount of the current balance.\n",
    "\n",
    "Below is the formula for calculating the interest amount:\n",
    "\n",
    "image1\n",
    "\n",
    "Sample input\n",
    "\n",
    "balance = 2000<br>\n",
    "interestRate = 5<br>\n",
    "interestAmount()<br>\n",
    "Sample output\n",
    "\n",
    "100"
   ]
  },
  {
   "cell_type": "code",
   "execution_count": 1,
   "id": "f3d0c48e",
   "metadata": {},
   "outputs": [],
   "source": [
    "class account:\n",
    "    def __init__(self,balance=0,title=None,amount=0):\n",
    "        self.title=title\n",
    "        self.balance=balance\n",
    "        self.amount=amount\n",
    "        \n",
    "    def deposit(self,amount):\n",
    "        self.balance=self.balance+ amount\n",
    "        \n",
    "    def withdrawal(self,amount):\n",
    "        self.balance=self.balance-amount\n",
    "        \n",
    "    def get_balance(self):\n",
    "        return self.balance"
   ]
  },
  {
   "cell_type": "code",
   "execution_count": 2,
   "id": "a36316e4",
   "metadata": {},
   "outputs": [],
   "source": [
    "class savings_account(account):\n",
    "    def __init__(self,balance=0,title= None,interest_rate=0):\n",
    "        super().__init__(title,balance)\n",
    "        \n",
    "        self.interest_rate=interest_rate\n",
    "\n",
    "    def interest_amount(self):\n",
    "        return (self.interest_rate*self.balance)/100"
   ]
  },
  {
   "cell_type": "code",
   "execution_count": 3,
   "id": "b4e201a6",
   "metadata": {},
   "outputs": [
    {
     "name": "stdout",
     "output_type": "stream",
     "text": [
      "1500\n"
     ]
    }
   ],
   "source": [
    "demo=account(2000)\n",
    "demo.withdrawal(500)\n",
    "print(demo.get_balance())"
   ]
  },
  {
   "cell_type": "code",
   "execution_count": 4,
   "id": "ee160e69",
   "metadata": {},
   "outputs": [
    {
     "name": "stdout",
     "output_type": "stream",
     "text": [
      "100.0\n"
     ]
    }
   ],
   "source": [
    "demo1=savings_account(\"kiba\",2000,5)\n",
    "print(demo1.interest_amount())"
   ]
  },
  {
   "cell_type": "code",
   "execution_count": null,
   "id": "c2fc677d",
   "metadata": {},
   "outputs": [],
   "source": []
  }
 ],
 "metadata": {
  "kernelspec": {
   "display_name": "Python 3 (ipykernel)",
   "language": "python",
   "name": "python3"
  },
  "language_info": {
   "codemirror_mode": {
    "name": "ipython",
    "version": 3
   },
   "file_extension": ".py",
   "mimetype": "text/x-python",
   "name": "python",
   "nbconvert_exporter": "python",
   "pygments_lexer": "ipython3",
   "version": "3.9.7"
  }
 },
 "nbformat": 4,
 "nbformat_minor": 5
}
