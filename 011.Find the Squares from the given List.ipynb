{
 "cells": [
  {
   "cell_type": "markdown",
   "id": "9113dfc5",
   "metadata": {},
   "source": [
    "### Write a Python program to square the elements of a list using map() function.\n",
    "\n",
    "\n",
    "\n",
    "Sample List: [4, 5, 2, 9]\n",
    "\n",
    "Square the elements of the list:\n",
    "\n",
    "[16, 25, 4, 81]"
   ]
  },
  {
   "cell_type": "markdown",
   "id": "31b5cda5",
   "metadata": {},
   "source": [
    "#### method 1:\n",
    "This method will allow you to enter numbers only"
   ]
  },
  {
   "cell_type": "code",
   "execution_count": 50,
   "id": "164976ea",
   "metadata": {},
   "outputs": [
    {
     "name": "stdout",
     "output_type": "stream",
     "text": [
      "enter the elements of the list seperating with ',' 4,5,2,9\n",
      "Square the elements of the list: \n",
      " [16, 25, 4, 81]\n"
     ]
    }
   ],
   "source": [
    "square_num = lambda a:pow(a,2)\n",
    "\n",
    "print(\"Square the elements of the list:\",str('\\n'),\\\n",
    "      list(map(square_num,list(map(int,input(\"enter the elements of the list seperating with ',' \").split(','))))))"
   ]
  },
  {
   "cell_type": "markdown",
   "id": "26fca4b5",
   "metadata": {},
   "source": [
    "#### method 2:\n",
    "this method also allow you to enter numbers only but it is compact than first method"
   ]
  },
  {
   "cell_type": "code",
   "execution_count": 51,
   "id": "77434cf1",
   "metadata": {},
   "outputs": [
    {
     "name": "stdout",
     "output_type": "stream",
     "text": [
      "4,5,2,9\n",
      "Square the elements of the list: \n",
      " [16, 25, 4, 81]\n"
     ]
    }
   ],
   "source": [
    "print(\"Square the elements of the list:\",str('\\n'),list(map(lambda a:a**2,list(map(int,input().split(','))))))"
   ]
  },
  {
   "cell_type": "markdown",
   "id": "f29a3f30",
   "metadata": {},
   "source": [
    "#### method 3:"
   ]
  },
  {
   "cell_type": "markdown",
   "id": "46b55a74",
   "metadata": {},
   "source": [
    "This method will allow you to enter input in follow ways: <br>[4, 5, 2, 9] or<br>[4,5,6,2,9 or <br>4,5,2,9 or<br>4,5,2,9"
   ]
  },
  {
   "cell_type": "code",
   "execution_count": 53,
   "id": "f07a5807",
   "metadata": {},
   "outputs": [
    {
     "name": "stdout",
     "output_type": "stream",
     "text": [
      "enter input list:[4,5,2,9]\n",
      "Square the elements of the list: \n",
      " [16, 25, 4, 81]\n"
     ]
    }
   ],
   "source": [
    "print(\"Square the elements of the list:\",str('\\n'),\\\n",
    "      list(map(lambda a:a**2,list(map(int,input(\"enter input list:\").strip(\"[]\").split(','))))))"
   ]
  },
  {
   "cell_type": "code",
   "execution_count": null,
   "id": "7f11c244",
   "metadata": {},
   "outputs": [],
   "source": []
  }
 ],
 "metadata": {
  "kernelspec": {
   "display_name": "Python 3 (ipykernel)",
   "language": "python",
   "name": "python3"
  },
  "language_info": {
   "codemirror_mode": {
    "name": "ipython",
    "version": 3
   },
   "file_extension": ".py",
   "mimetype": "text/x-python",
   "name": "python",
   "nbconvert_exporter": "python",
   "pygments_lexer": "ipython3",
   "version": "3.9.7"
  }
 },
 "nbformat": 4,
 "nbformat_minor": 5
}
