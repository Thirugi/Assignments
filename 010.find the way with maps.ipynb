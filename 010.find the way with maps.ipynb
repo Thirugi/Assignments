{
 "cells": [
  {
   "cell_type": "markdown",
   "id": "c4b4f938",
   "metadata": {},
   "source": [
    "### Write a Python program to triple all numbers of a given list of integers. Use Python map.\n",
    "\n",
    "\n",
    "\n",
    "sample list: [1, 2, 3, 4, 5, 6, 7]\n",
    "\n",
    "\n",
    "\n",
    "Triple of list numbers:\n",
    "\n",
    "[3, 6, 9, 12, 15, 18, 21]\n",
    "\n"
   ]
  },
  {
   "cell_type": "code",
   "execution_count": 1,
   "id": "223a1ca1",
   "metadata": {},
   "outputs": [
    {
     "name": "stdout",
     "output_type": "stream",
     "text": [
      "enter a list of elements seperate by ','1,2,3,4,5,6,7\n",
      "Triple of list numbers: \n",
      " [3, 6, 9, 12, 15, 18, 21]\n"
     ]
    }
   ],
   "source": [
    "a=list(map(int,input(\"enter a list of elements seperate by ','\" ).split(',')))\n",
    "\n",
    "triple_of_number = lambda a:a*3\n",
    "\n",
    "print(\"Triple of list numbers:\",str('\\n'),[triple_of_number(i)for i in a])"
   ]
  },
  {
   "cell_type": "code",
   "execution_count": 2,
   "id": "7c300a40",
   "metadata": {},
   "outputs": [
    {
     "name": "stdout",
     "output_type": "stream",
     "text": [
      "enter input list :[1,2,3,4,5,6,7]\n",
      "Triple of list numbers: \n",
      " [3, 6, 9, 12, 15, 18, 21]\n"
     ]
    }
   ],
   "source": [
    "print(\"Triple of list numbers:\",str('\\n'),\\\n",
    "      list(map(lambda a:a*3,list(map(int,input(\"enter input list :\").strip(\"[]\").split(','))))))"
   ]
  },
  {
   "cell_type": "code",
   "execution_count": null,
   "id": "96ea920c",
   "metadata": {},
   "outputs": [],
   "source": []
  }
 ],
 "metadata": {
  "kernelspec": {
   "display_name": "Python 3 (ipykernel)",
   "language": "python",
   "name": "python3"
  },
  "language_info": {
   "codemirror_mode": {
    "name": "ipython",
    "version": 3
   },
   "file_extension": ".py",
   "mimetype": "text/x-python",
   "name": "python",
   "nbconvert_exporter": "python",
   "pygments_lexer": "ipython3",
   "version": "3.9.7"
  }
 },
 "nbformat": 4,
 "nbformat_minor": 5
}
